{
 "cells": [
  {
   "cell_type": "markdown",
   "metadata": {},
   "source": [
    "> **REMINDER: DO NOT EDIT IF INSIDE CLONED GIT FOLDER**<br>\n",
    "> \\> Go ahead and copy it and paste it in another folder. Work inside the pasted file."
   ]
  },
  {
   "cell_type": "markdown",
   "metadata": {},
   "source": [
    "# Week 2: A Data Scientist's most fundamental tools"
   ]
  },
  {
   "cell_type": "markdown",
   "metadata": {
    "ExecuteTime": {
     "end_time": "2017-08-23T15:30:03.634114Z",
     "start_time": "2017-08-23T15:30:03.629294Z"
    }
   },
   "source": [
    "Today's exercises will be related to chapters 3, 4, 5 from DSFS. The point of these exercises is to refresh your memory on some mathematics and get you comfortable doing computations in code.\n",
    "\n",
    "The exercises today cover:\n",
    "* Basic visualization\n",
    "* Linear algebra\n",
    "* Statistics\n",
    "\n",
    "**Advice**: Some of you may be new to solving problems using code. You may be wondering *what level of detail* I expect in your solutions, your code comments and explanations. **This is the guideline:** Solve the exercises in a manner that allows you to—later in life—use them as examples. This also means that you should add code comments when the code isn't self-explanatory or if you're afraid it won't make sense when you look at it with fresh eyes. You may also want to comment on your output in plain text to capture the conclusions you arrive at throughout your analysis. But express yourself succinctly. To quote (probably) Einstein: *\"Make everything as simple as possible, but not simpler\"*. Finally, when you optimize for your own future comprehension, other people will be able to understand what you did.\n",
    "\n",
    "[**Feedback**](http://ulfaslak.com/vent)"
   ]
  },
  {
   "cell_type": "markdown",
   "metadata": {},
   "source": [
    "## Exercises"
   ]
  },
  {
   "cell_type": "markdown",
   "metadata": {},
   "source": [
    "### Part 1: Visualization (DSFS Chapter 3)"
   ]
  },
  {
   "cell_type": "markdown",
   "metadata": {},
   "source": [
    ">**Ex. 2.1.1**: The figure below meets the minumum style requirements which I expect the figures you make in this class (and life in general) should also meet:\n",
    "* Figure sizing. Try to make the aspect ratio close to 4:3.\n",
    "* Axis labels. Note that you may want to alter the `fontsize` to make them look nice.\n",
    "* Properly sized x and y tick labels.\n",
    "* Title (optional: not always necessary, but oftens helps the reader)\n",
    "* Legend (general rule: only use if you have multiple trends so reader can distinguish).\n",
    ">\n",
    "> Your task in this exercise if to reproduce this figure (perfect match not required).\n",
    ">\n",
    ">*Hint: To get figures to display inside the notebook, use the Jupyter magic `%matplotlib inline`. For pointers on how to make plots like this in Python, Google something like \"scatter plot python\" and see if you can find some examples of how other people do this.*"
   ]
  },
  {
   "cell_type": "markdown",
   "metadata": {},
   "source": [
    "![img](https://ulfaslak.com/computational_analysis_of_big_data/exer_figures/example_2.1.1.png)"
   ]
  },
  {
   "cell_type": "markdown",
   "metadata": {},
   "source": [
    ">**Ex. 2.1.2**: The `get_x_y` function below gives you the number of comments versus score for the latest `N` posts on a given `subreddit`.\n",
    "1. Make a scatter plot of `x` vs. `y` for the \"blackmirror\" subreddit (**remember** what you learned in the previous exercise about **styling**). Comment on what you see.\n",
    "2. Maybe you've noticed that it looks pretty bad right? That's because the data does *not scale linearly*! This is a very common thing. To visualize it you should then try to *transform* it somehow. In this case, the data scales *exponentially* in both the x and y direction. Which transformation should we use to make it linear?\n",
    "3. In two seperate figures, floating side by side, scatter plot (left) the set of x and y variables for \"blackmirror\" and (right) x and y for \"news\". Remember to transform the data. My figure looks like [this](http://ulfaslak.com/computational_analysis_of_big_data/exer_figures/example_2.2b.png).\n",
    "4. Comment on any differences you see in the trends. Why might number of comments versus post upvotes look different for a TV-show than for world news?\n",
    ">\n",
    ">*Hint: By \"transformation\" I explicitly mean that you map some function onto every value in a list of values. Example: I can apply a square root transformation like `x = [np.sqrt(v) for v in x]`. A faster way to do that, of course, would be just `x = np.sqrt(x)`.*"
   ]
  },
  {
   "cell_type": "code",
   "execution_count": 1,
   "metadata": {
    "ExecuteTime": {
     "end_time": "2020-01-28T14:08:04.825646Z",
     "start_time": "2020-01-28T14:07:51.192395Z"
    }
   },
   "outputs": [
    {
     "name": "stdout",
     "output_type": "stream",
     "text": [
      "Retrieved 25 posts from page \n",
      "Retrieved 25 posts from page t3_etx98w\n",
      "Retrieved 25 posts from page t3_es48od\n",
      "Retrieved 25 posts from page t3_eqkay7\n",
      "Retrieved 25 posts from page t3_epkmnw\n",
      "Retrieved 25 posts from page t3_enmura\n",
      "Retrieved 25 posts from page t3_emhqzf\n",
      "Retrieved 25 posts from page t3_ela2bc\n",
      "Retrieved 25 posts from page t3_eismcs\n",
      "Retrieved 25 posts from page t3_eh0l68\n",
      "Retrieved 25 posts from page t3_egh0rq\n",
      "Retrieved 25 posts from page t3_ef8qsi\n",
      "Retrieved 25 posts from page t3_ee4kg6\n",
      "Retrieved 25 posts from page t3_ecyhrx\n",
      "Retrieved 25 posts from page t3_ebi6ic\n",
      "Retrieved 25 posts from page t3_e9h8yp\n",
      "Retrieved 25 posts from page t3_e7lx0h\n",
      "Retrieved 25 posts from page t3_e5z8p3\n",
      "Retrieved 25 posts from page t3_e45dpc\n",
      "Retrieved 25 posts from page t3_e2ijih\n"
     ]
    }
   ],
   "source": [
    "import requests as rq\n",
    "\n",
    "def get_x_y(subreddit, N, count=25):\n",
    "    \n",
    "    def _get_data(subreddit, count, after):\n",
    "        url = \"https://www.reddit.com/r/%s/.json?count=%d&after=%s\" % (subreddit, count, after)\n",
    "        data = rq.get(url, headers = {'User-agent': 'sneakybot'}).json()\n",
    "        print(\"Retrieved %d posts from page %s\" % (count, after))\n",
    "        return data\n",
    "    \n",
    "    after = \"\"\n",
    "\n",
    "    x, y = [], []\n",
    "    for n in range(N//count):\n",
    "        data = _get_data(subreddit, count, after)\n",
    "        for d in data['data']['children']:\n",
    "            x.append(d['data']['num_comments'])\n",
    "            y.append(d['data']['score'])\n",
    "        after = data['data']['after']\n",
    "\n",
    "    return x, y\n",
    "                          \n",
    "x, y = get_x_y(\"blackmirror\", 500, count=25)"
   ]
  },
  {
   "cell_type": "markdown",
   "metadata": {},
   "source": [
    "**ANS 1:** Make a scatter plot of x vs. y for the \"blackmirror\" subreddit. Comment on what you see."
   ]
  },
  {
   "cell_type": "code",
   "execution_count": 2,
   "metadata": {
    "ExecuteTime": {
     "end_time": "2020-01-28T14:08:09.893276Z",
     "start_time": "2020-01-28T14:08:09.244762Z"
    }
   },
   "outputs": [
    {
     "data": {
      "image/png": "[encoded data removed]",
      "text/plain": [
       "<Figure size 288x216 with 1 Axes>"
      ]
     },
     "metadata": {
      "needs_background": "light"
     },
     "output_type": "display_data"
    }
   ],
   "source": [
    "%matplotlib inline\n",
    "import matplotlib.pylab as plt\n",
    "\n",
    "# First I instantiate a figure\n",
    "plt.figure(figsize=(4, 3))\n",
    "\n",
    "# Then I create the scatter plot. This line alone would also have produced\n",
    "# a scatter plot, but it would look terrible and have no styling.\n",
    "plt.scatter(x, y)\n",
    "\n",
    "# Name and style the x and y labels\n",
    "plt.xlabel(\"Comments\", fontsize=14)\n",
    "plt.ylabel(\"Upvotes\", fontsize=14)\n",
    "\n",
    "# Size the x and y ticks\n",
    "plt.xticks(fontsize=12)\n",
    "plt.yticks(fontsize=12)\n",
    "\n",
    "# Show the figure (also closes it)\n",
    "plt.savefig(\"../plots/ex2.1.2.1.pdf\", bbox_inches='tight')"
   ]
  },
  {
   "cell_type": "markdown",
   "metadata": {},
   "source": [
    "**Comment**: This does not look nice. It looks like there are a couple of outliers that makes the rest of the points\n",
    "indistinguishable, or maybe the data is distributed exponentially and needs to be log-transformed."
   ]
  },
  {
   "cell_type": "markdown",
   "metadata": {},
   "source": [
    "**ANS 2:** Which transformation should we use to make it linear?\n",
    "\n",
    "It looks like the data is exponentially\n",
    "distributed along both axes. The inverse of an exponential is the logarithm, so we can apply a log-transform to\n",
    "make the data linear. Importantly, there are two ways to do this. We can either (1) log-scale the data or (2)\n",
    "logscale the axes we plot the data along. Both will have the same visual appearance."
   ]
  },
  {
   "cell_type": "markdown",
   "metadata": {},
   "source": [
    "**ANS 3:** In two seperate figures, floating side by side, scatter plot (left) the set of\n",
    "x and y variables for \"blackmirror\" and (right) x and y for \"news\". Remember to transform the data."
   ]
  },
  {
   "cell_type": "code",
   "execution_count": 3,
   "metadata": {
    "ExecuteTime": {
     "end_time": "2020-01-28T14:08:27.481122Z",
     "start_time": "2020-01-28T14:08:12.886974Z"
    }
   },
   "outputs": [
    {
     "name": "stdout",
     "output_type": "stream",
     "text": [
      "Retrieved 25 posts from page \n",
      "Retrieved 25 posts from page t3_eusq6h\n",
      "Retrieved 25 posts from page t3_euyzbj\n",
      "Retrieved 25 posts from page t3_euxlfn\n",
      "Retrieved 25 posts from page t3_euwnd7\n",
      "Retrieved 25 posts from page t3_euqlp0\n",
      "Retrieved 25 posts from page t3_eu6rj2\n",
      "Retrieved 25 posts from page t3_eu8j3b\n",
      "Retrieved 25 posts from page t3_eu2qzp\n",
      "Retrieved 25 posts from page t3_etfkbg\n",
      "Retrieved 25 posts from page None\n",
      "Retrieved 25 posts from page t3_eusq6h\n",
      "Retrieved 25 posts from page t3_euyzbj\n",
      "Retrieved 25 posts from page t3_euxlfn\n",
      "Retrieved 25 posts from page t3_euwnd7\n",
      "Retrieved 25 posts from page t3_euqlp0\n",
      "Retrieved 25 posts from page t3_eu6rj2\n",
      "Retrieved 25 posts from page t3_eu8j3b\n",
      "Retrieved 25 posts from page t3_eu2qzp\n",
      "Retrieved 25 posts from page t3_etfkbg\n"
     ]
    }
   ],
   "source": [
    "# Collect the news data. I do this in a seperate cell, because it takes some time.\n",
    "x_news, y_news = get_x_y(\"news\", 500, count=25)"
   ]
  },
  {
   "cell_type": "code",
   "execution_count": 4,
   "metadata": {
    "ExecuteTime": {
     "end_time": "2020-01-28T14:08:31.656107Z",
     "start_time": "2020-01-28T14:08:29.516485Z"
    }
   },
   "outputs": [
    {
     "data": {
      "image/png": "[encoded data removed]",
      "text/plain": [
       "<Figure size 576x216 with 2 Axes>"
      ]
     },
     "metadata": {
      "needs_background": "light"
     },
     "output_type": "display_data"
    }
   ],
   "source": [
    "# Import matplotlib so we can globally set ticksizes\n",
    "import matplotlib as mpl\n",
    "\n",
    "# Set tick-sizes\n",
    "mpl.rc('xtick', labelsize=12) \n",
    "mpl.rc('ytick', labelsize=12) \n",
    "\n",
    "# Instantiate the figure as `plt.subplots`. Specify that there should be\n",
    "# one row and two columns, and that subplots should share x and y-axes.\n",
    "fig, ax = plt.subplots(1, 2, figsize=(8, 3), sharex=True, sharey=True)\n",
    "\n",
    "# Set subplot titles\n",
    "ax[0].set_title(\"Black Mirror\", fontsize=16)\n",
    "ax[1].set_title(\"World News\", fontsize=16)\n",
    "\n",
    "# Set axis labels. Don't include y-axis label on the right plot because\n",
    "# y-axes are shared\n",
    "ax[0].set_xlabel(\"Comments\", fontsize=14)\n",
    "ax[1].set_xlabel(\"Comments\", fontsize=14)\n",
    "ax[0].set_ylabel(\"Upvotes\", fontsize=14)\n",
    "\n",
    "# Make scatter plots\n",
    "ax[0].scatter(x, y, c=\"steelblue\")\n",
    "ax[1].scatter(x_news, y_news, c=\"orange\")\n",
    "\n",
    "# Log scale axes. Only necessary to do it on one of the plots because axes\n",
    "# are shared\n",
    "ax[0].set_xscale(\"log\")\n",
    "ax[0].set_yscale(\"log\")\n",
    "\n",
    "# Set x and y limits. Also only necessary on one plot because of axis sharing\n",
    "ax[0].set_xlim(1)\n",
    "ax[0].set_ylim(1)\n",
    "\n",
    "# Render and close\n",
    "plt.savefig(\"../plots/ex2.1.2.3.pdf\", bbox_inches='tight')"
   ]
  },
  {
   "cell_type": "markdown",
   "metadata": {},
   "source": [
    "**ANS 4:** Comment on any differences you see in the trends. Why might number of comments versus post upvotes\n",
    "look different for a TV-show than for world news?\n",
    "\n",
    "The world news curve is a nice powerlaw (linear in log-log space), which makes sense given that there is probably\n",
    "a sliding scale of interest that people can have in a topic. For the TV-show it is not the same at all (at least\n",
    "not at the time of writing). There, it seems there are two classes of posts, one that gets relatively little \n",
    "attention, and another that reaches a very large number of up-votes and potentially more comments. Could be\n",
    "something similar to \"viral\" posts.\n"
   ]
  },
  {
   "cell_type": "markdown",
   "metadata": {},
   "source": [
    ">**Ex. 2.1.3**: There is clearly a huge level unevenness in the distribution of how likes and comments given to different posts. Let's visualize this using histograms!\n",
    "1. Log transform `y` (e.g. create a new variable called `y_transformed`) and input it to `plt.hist`. Notice that of there are zeros in `y`, `np.log` will convert them to `-inf`, which `plt.hist` can't handle. You should therefore remove zeros before log transforming. When you have done this, execute `hist_output = plt.hist(x_transformed)`. This should produce a histogram. But what does the variable `hist_output` contain?\n",
    "2. Use `hist_output` to make a similar histogram with the `plt.bar` plotting function. I make you do this to force\n",
    "into your permanent memory what a histogram is: a bar chart showing counts within intervals/bins.\n",
    "3. Plot the distributions of `y_transformed` for \"blackmirror\" and \"news\" as histograms, side by side (you can just use the regular `plt.hist` function here). My figure looks like [this](http://ulfaslak.com/computational_analysis_of_big_data/exer_figures/example_2.2c.png). Comment on the result."
   ]
  },
  {
   "cell_type": "markdown",
   "metadata": {},
   "source": [
    "**ANS 1:** Log transform y (e.g. create a new variable called y_transformed) and input it to `plt.hist` (...)\n",
    "But what does the variable `hist_output` contain?"
   ]
  },
  {
   "cell_type": "code",
   "execution_count": 298,
   "metadata": {
    "ExecuteTime": {
     "end_time": "2019-11-11T09:52:29.885533Z",
     "start_time": "2019-11-11T09:52:29.693167Z"
    }
   },
   "outputs": [
    {
     "name": "stdout",
     "output_type": "stream",
     "text": [
      "(array([ 35.,  80., 119.,  91.,  47.,  17.,  10.,  19.,  47.,  10.]), array([0.        , 0.89994959, 1.79989918, 2.69984876, 3.59979835,\n",
      "       4.49974794, 5.39969753, 6.29964711, 7.1995967 , 8.09954629,\n",
      "       8.99949588]), <a list of 10 Patch objects>)\n"
     ]
    },
    {
     "data": {
      "image/png": "[encoded data removed]",
      "text/plain": [
       "<Figure size 432x288 with 1 Axes>"
      ]
     },
     "metadata": {
      "needs_background": "light"
     },
     "output_type": "display_data"
    }
   ],
   "source": [
    "# Remove zeros from y and log-transform the result\n",
    "y_transformed = np.log([v for v in y if v > 0])\n",
    "\n",
    "# Run the histogram and collect the output into `hist_output`\n",
    "hist_output = plt.hist(y_transformed)\n",
    "\n",
    "# Print `hist_output`\n",
    "print(hist_output)"
   ]
  },
  {
   "cell_type": "markdown",
   "metadata": {},
   "source": [
    "**Comment**: `plt.hist` returns a tuple with three elements. The first element is the bin counts, the second is the position\n",
    "of bin edges and the third are the matplotlib Patch objects for rendering the bars."
   ]
  },
  {
   "cell_type": "markdown",
   "metadata": {},
   "source": [
    "**ANS 2:** Use `hist_output` to make a similar histogram with the `plt.bar` plotting function."
   ]
  },
  {
   "cell_type": "code",
   "execution_count": 299,
   "metadata": {
    "ExecuteTime": {
     "end_time": "2019-11-11T09:52:34.085364Z",
     "start_time": "2019-11-11T09:52:33.809480Z"
    }
   },
   "outputs": [
    {
     "data": {
      "image/png": "[encoded data removed]",
      "text/plain": [
       "<Figure size 288x216 with 1 Axes>"
      ]
     },
     "metadata": {
      "needs_background": "light"
     },
     "output_type": "display_data"
    }
   ],
   "source": [
    "plt.figure(figsize=(4, 3))\n",
    "\n",
    "# Extract x and y coordinates for bar plot\n",
    "left_edges = hist_output[1][:-1]\n",
    "bar_heights = hist_output[0]\n",
    "\n",
    "# Plot bar chart. \n",
    "plt.bar(left_edges, bar_heights, width=1, align=\"edge\")\n",
    "plt.xlabel(\"log-upvotes\", fontsize=14)\n",
    "\n",
    "plt.savefig(\"../plots/ex2.1.3.2.pdf\", bbox_inches='tight')\n"
   ]
  },
  {
   "cell_type": "markdown",
   "metadata": {},
   "source": [
    "**ANS 3:** Plot the distributions of y_transformed for \"blackmirror\" and \"news\" as histograms, side by side"
   ]
  },
  {
   "cell_type": "code",
   "execution_count": 300,
   "metadata": {
    "ExecuteTime": {
     "end_time": "2019-11-11T09:53:00.152013Z",
     "start_time": "2019-11-11T09:52:59.679987Z"
    }
   },
   "outputs": [
    {
     "data": {
      "image/png": "[encoded data removed]",
      "text/plain": [
       "<Figure size 576x216 with 2 Axes>"
      ]
     },
     "metadata": {
      "needs_background": "light"
     },
     "output_type": "display_data"
    }
   ],
   "source": [
    "# No need to set global tick sizes again\n",
    "\n",
    "# Get y_transformed for news\n",
    "y_news_transformed = np.log([v for v in y_news if v > 0])\n",
    "\n",
    "# Instantiate the figure as `plt.subplots`. Specify that there should be\n",
    "# one row and two columns, and that subplots should share x and y-axes.\n",
    "fig, ax = plt.subplots(1, 2, figsize=(8, 3), sharex=True, sharey=True)\n",
    "\n",
    "# Set subplot titles\n",
    "ax[0].set_title(\"Black Mirror\", fontsize=16)\n",
    "ax[1].set_title(\"World News\", fontsize=16)\n",
    "\n",
    "# Set axis labels. Don't include y-axis label on the right plot because\n",
    "# y-axes are shared\n",
    "ax[0].set_xlabel(\"log-upvotes\", fontsize=14)\n",
    "ax[1].set_xlabel(\"log-upvotes\", fontsize=14)\n",
    "\n",
    "# Make scatter plots\n",
    "ax[0].hist(y_transformed, color=\"steelblue\")\n",
    "ax[1].hist(y_news_transformed, color=\"orange\")\n",
    "\n",
    "# Render and close\n",
    "plt.savefig(\"../plots/ex2.1.3.3.pdf\", bbox_inches='tight')"
   ]
  },
  {
   "cell_type": "markdown",
   "metadata": {},
   "source": [
    "**Comment**: Almost posts get more upvotes in the worldnews subreddit, probably because there are more users there.\n",
    "But in world news we don't have a bimodal distribution. Importantly: running this at different times will give\n",
    "different result."
   ]
  },
  {
   "cell_type": "markdown",
   "metadata": {},
   "source": [
    "### Part 2: Linear algebra (DSFS Chapter 4)"
   ]
  },
  {
   "cell_type": "markdown",
   "metadata": {},
   "source": [
    ">**Ex. 2.2.1**: What does Joel (book) mean when he uses the word *vector*? What are [Grant](https://youtu.be/fNk_zzaMoSs)s vector definitions from the perspectives of the Physicist, the Computer Scientist and the Mathematician, respectivelt?"
   ]
  },
  {
   "cell_type": "markdown",
   "metadata": {},
   "source": [
    "**ANS:****\n",
    "\n",
    "Joel** defines vectors *points* in a space. **Grants phycisist** sees a vector as a direction with a length, his\n",
    "**Computer Scientist** sees it as a list of numbers and the **Mathematician** generalizes these views to say that a\n",
    "vector is \"anything where theres a sensible notion of\" addition and multiplication."
   ]
  },
  {
   "cell_type": "markdown",
   "metadata": {},
   "source": [
    ">**Ex. 2.2.2**: Using `numpy`, compute:\n",
    "1. `2 * [2, 3]`,\n",
    "2. `[3, 8] + [6, 1]`,\n",
    "3. `[3, 8] * [6, 1]` and\n",
    "4. `[3, 8] · [6, 1]` (dot product)\n",
    "5. `[3, 8, 0] x [6, 1, 0]` (cross product)"
   ]
  },
  {
   "cell_type": "code",
   "execution_count": 73,
   "metadata": {
    "ExecuteTime": {
     "end_time": "2019-11-08T08:30:01.328679Z",
     "start_time": "2019-11-08T08:30:01.320381Z"
    }
   },
   "outputs": [
    {
     "name": "stdout",
     "output_type": "stream",
     "text": [
      "1. [4 6]\n",
      "2. [9 9]\n",
      "3. [18  8]\n",
      "4. 26\n",
      "5. [  0   0 -45]\n"
     ]
    }
   ],
   "source": [
    "# `np` is the common alias for `numpy`.\n",
    "import numpy as np\n",
    "\n",
    "# ANS 1: 2 * [2, 3]\n",
    "print(\"1.\", 2 * np.array([2, 3]))\n",
    "\n",
    "# ANS 2: [3, 8] + [6, 1]\n",
    "print(\"2.\", np.array([3, 8]) + np.array([6, 1]))\n",
    "\n",
    "# ANS 3: [3, 8] * [6, 1]\n",
    "print(\"3.\", np.array([3, 8]) * np.array([6, 1]))\n",
    "\n",
    "# ANS 4: [3, 8] · [6, 1]\n",
    "print(\"4.\", np.dot(np.array([3, 8]), np.array([6, 1])))\n",
    "\n",
    "# ANS 5: [3, 8, 0] x [6, 1, 0]\n",
    "print(\"5.\", np.cross(np.array([3, 8, 0]), np.array([6, 1, 0])))"
   ]
  },
  {
   "cell_type": "markdown",
   "metadata": {},
   "source": [
    ">**Ex. 2.2.3**: Say you have two vectors. What does it mean that the dot product between them is zero or very close to zero? What if it's very large? Intuitively, what does the dot product then measure?"
   ]
  },
  {
   "cell_type": "markdown",
   "metadata": {},
   "source": [
    "**ANS:**\n",
    "\n",
    "The dot product of two vectors is proportional to the size of the projection of one onto the other. So if the\n",
    "dot product is zero this projection must have size zero, and the only way that's possible is if they are orthogonal.\n",
    "If the dot product is large relative to the length of the vectors, it means that they are parallel or close to \n",
    "parallel. So intuitively, it measures how \"aligned\" they are. Or how similar the values in them are."
   ]
  },
  {
   "cell_type": "markdown",
   "metadata": {},
   "source": [
    ">**Ex. 2.2.4**: In Data Science, we often think of matrices as (usually two-dimensional) containers for data. If we have $N=500$ data points each with $M$ features to them, we can represent this data using an $N \\times M$ matrix, that is a matrix that has $N$ rows, one for each datapoint, and $M$ columns, one for each feature. Below I fetch a dataset of wines (rows) and their features (columns)."
   ]
  },
  {
   "cell_type": "code",
   "execution_count": 301,
   "metadata": {
    "ExecuteTime": {
     "end_time": "2019-11-11T09:53:11.903738Z",
     "start_time": "2019-11-11T09:53:11.593708Z"
    }
   },
   "outputs": [
    {
     "data": {
      "text/html": [
       "<div>\n",
       "<style scoped>\n",
       "    .dataframe tbody tr th:only-of-type {\n",
       "        vertical-align: middle;\n",
       "    }\n",
       "\n",
       "    .dataframe tbody tr th {\n",
       "        vertical-align: top;\n",
       "    }\n",
       "\n",
       "    .dataframe thead th {\n",
       "        text-align: right;\n",
       "    }\n",
       "</style>\n",
       "<table border=\"1\" class=\"dataframe\">\n",
       "  <thead>\n",
       "    <tr style=\"text-align: right;\">\n",
       "      <th></th>\n",
       "      <th>Alcohol</th>\n",
       "      <th>Malic.acid</th>\n",
       "      <th>Ash</th>\n",
       "      <th>Acl</th>\n",
       "      <th>Mg</th>\n",
       "      <th>Phenols</th>\n",
       "      <th>Flavanoids</th>\n",
       "      <th>Nonflavanoid.phenols</th>\n",
       "      <th>Proanth</th>\n",
       "      <th>Color.int</th>\n",
       "      <th>Hue</th>\n",
       "      <th>OD</th>\n",
       "      <th>Proline</th>\n",
       "    </tr>\n",
       "  </thead>\n",
       "  <tbody>\n",
       "    <tr>\n",
       "      <th>0</th>\n",
       "      <td>14.23</td>\n",
       "      <td>1.71</td>\n",
       "      <td>2.43</td>\n",
       "      <td>15.6</td>\n",
       "      <td>127</td>\n",
       "      <td>2.80</td>\n",
       "      <td>3.06</td>\n",
       "      <td>0.28</td>\n",
       "      <td>2.29</td>\n",
       "      <td>5.64</td>\n",
       "      <td>1.04</td>\n",
       "      <td>3.92</td>\n",
       "      <td>1065</td>\n",
       "    </tr>\n",
       "    <tr>\n",
       "      <th>1</th>\n",
       "      <td>13.20</td>\n",
       "      <td>1.78</td>\n",
       "      <td>2.14</td>\n",
       "      <td>11.2</td>\n",
       "      <td>100</td>\n",
       "      <td>2.65</td>\n",
       "      <td>2.76</td>\n",
       "      <td>0.26</td>\n",
       "      <td>1.28</td>\n",
       "      <td>4.38</td>\n",
       "      <td>1.05</td>\n",
       "      <td>3.40</td>\n",
       "      <td>1050</td>\n",
       "    </tr>\n",
       "    <tr>\n",
       "      <th>2</th>\n",
       "      <td>13.16</td>\n",
       "      <td>2.36</td>\n",
       "      <td>2.67</td>\n",
       "      <td>18.6</td>\n",
       "      <td>101</td>\n",
       "      <td>2.80</td>\n",
       "      <td>3.24</td>\n",
       "      <td>0.30</td>\n",
       "      <td>2.81</td>\n",
       "      <td>5.68</td>\n",
       "      <td>1.03</td>\n",
       "      <td>3.17</td>\n",
       "      <td>1185</td>\n",
       "    </tr>\n",
       "    <tr>\n",
       "      <th>3</th>\n",
       "      <td>14.37</td>\n",
       "      <td>1.95</td>\n",
       "      <td>2.50</td>\n",
       "      <td>16.8</td>\n",
       "      <td>113</td>\n",
       "      <td>3.85</td>\n",
       "      <td>3.49</td>\n",
       "      <td>0.24</td>\n",
       "      <td>2.18</td>\n",
       "      <td>7.80</td>\n",
       "      <td>0.86</td>\n",
       "      <td>3.45</td>\n",
       "      <td>1480</td>\n",
       "    </tr>\n",
       "    <tr>\n",
       "      <th>4</th>\n",
       "      <td>13.24</td>\n",
       "      <td>2.59</td>\n",
       "      <td>2.87</td>\n",
       "      <td>21.0</td>\n",
       "      <td>118</td>\n",
       "      <td>2.80</td>\n",
       "      <td>2.69</td>\n",
       "      <td>0.39</td>\n",
       "      <td>1.82</td>\n",
       "      <td>4.32</td>\n",
       "      <td>1.04</td>\n",
       "      <td>2.93</td>\n",
       "      <td>735</td>\n",
       "    </tr>\n",
       "    <tr>\n",
       "      <th>5</th>\n",
       "      <td>14.20</td>\n",
       "      <td>1.76</td>\n",
       "      <td>2.45</td>\n",
       "      <td>15.2</td>\n",
       "      <td>112</td>\n",
       "      <td>3.27</td>\n",
       "      <td>3.39</td>\n",
       "      <td>0.34</td>\n",
       "      <td>1.97</td>\n",
       "      <td>6.75</td>\n",
       "      <td>1.05</td>\n",
       "      <td>2.85</td>\n",
       "      <td>1450</td>\n",
       "    </tr>\n",
       "    <tr>\n",
       "      <th>6</th>\n",
       "      <td>14.39</td>\n",
       "      <td>1.87</td>\n",
       "      <td>2.45</td>\n",
       "      <td>14.6</td>\n",
       "      <td>96</td>\n",
       "      <td>2.50</td>\n",
       "      <td>2.52</td>\n",
       "      <td>0.30</td>\n",
       "      <td>1.98</td>\n",
       "      <td>5.25</td>\n",
       "      <td>1.02</td>\n",
       "      <td>3.58</td>\n",
       "      <td>1290</td>\n",
       "    </tr>\n",
       "    <tr>\n",
       "      <th>7</th>\n",
       "      <td>14.06</td>\n",
       "      <td>2.15</td>\n",
       "      <td>2.61</td>\n",
       "      <td>17.6</td>\n",
       "      <td>121</td>\n",
       "      <td>2.60</td>\n",
       "      <td>2.51</td>\n",
       "      <td>0.31</td>\n",
       "      <td>1.25</td>\n",
       "      <td>5.05</td>\n",
       "      <td>1.06</td>\n",
       "      <td>3.58</td>\n",
       "      <td>1295</td>\n",
       "    </tr>\n",
       "    <tr>\n",
       "      <th>8</th>\n",
       "      <td>14.83</td>\n",
       "      <td>1.64</td>\n",
       "      <td>2.17</td>\n",
       "      <td>14.0</td>\n",
       "      <td>97</td>\n",
       "      <td>2.80</td>\n",
       "      <td>2.98</td>\n",
       "      <td>0.29</td>\n",
       "      <td>1.98</td>\n",
       "      <td>5.20</td>\n",
       "      <td>1.08</td>\n",
       "      <td>2.85</td>\n",
       "      <td>1045</td>\n",
       "    </tr>\n",
       "    <tr>\n",
       "      <th>9</th>\n",
       "      <td>13.86</td>\n",
       "      <td>1.35</td>\n",
       "      <td>2.27</td>\n",
       "      <td>16.0</td>\n",
       "      <td>98</td>\n",
       "      <td>2.98</td>\n",
       "      <td>3.15</td>\n",
       "      <td>0.22</td>\n",
       "      <td>1.85</td>\n",
       "      <td>7.22</td>\n",
       "      <td>1.01</td>\n",
       "      <td>3.55</td>\n",
       "      <td>1045</td>\n",
       "    </tr>\n",
       "  </tbody>\n",
       "</table>\n",
       "</div>"
      ],
      "text/plain": [
       "   Alcohol  Malic.acid   Ash   Acl   Mg  Phenols  Flavanoids  \\\n",
       "0    14.23        1.71  2.43  15.6  127     2.80        3.06   \n",
       "1    13.20        1.78  2.14  11.2  100     2.65        2.76   \n",
       "2    13.16        2.36  2.67  18.6  101     2.80        3.24   \n",
       "3    14.37        1.95  2.50  16.8  113     3.85        3.49   \n",
       "4    13.24        2.59  2.87  21.0  118     2.80        2.69   \n",
       "5    14.20        1.76  2.45  15.2  112     3.27        3.39   \n",
       "6    14.39        1.87  2.45  14.6   96     2.50        2.52   \n",
       "7    14.06        2.15  2.61  17.6  121     2.60        2.51   \n",
       "8    14.83        1.64  2.17  14.0   97     2.80        2.98   \n",
       "9    13.86        1.35  2.27  16.0   98     2.98        3.15   \n",
       "\n",
       "   Nonflavanoid.phenols  Proanth  Color.int   Hue    OD  Proline  \n",
       "0                  0.28     2.29       5.64  1.04  3.92     1065  \n",
       "1                  0.26     1.28       4.38  1.05  3.40     1050  \n",
       "2                  0.30     2.81       5.68  1.03  3.17     1185  \n",
       "3                  0.24     2.18       7.80  0.86  3.45     1480  \n",
       "4                  0.39     1.82       4.32  1.04  2.93      735  \n",
       "5                  0.34     1.97       6.75  1.05  2.85     1450  \n",
       "6                  0.30     1.98       5.25  1.02  3.58     1290  \n",
       "7                  0.31     1.25       5.05  1.06  3.58     1295  \n",
       "8                  0.29     1.98       5.20  1.08  2.85     1045  \n",
       "9                  0.22     1.85       7.22  1.01  3.55     1045  "
      ]
     },
     "execution_count": 301,
     "metadata": {},
     "output_type": "execute_result"
    }
   ],
   "source": [
    "import pandas as pd\n",
    "\n",
    "# Download dataset\n",
    "X = pd.read_csv(\"https://gist.githubusercontent.com/tijptjik/9408623/raw/b237fa5848349a14a14e5d4107dc7897c21951f5/wine.csv\").drop('Wine', axis=1)\n",
    "\n",
    "# Display dataset\n",
    "X.head(10)"
   ]
  },
  {
   "cell_type": "markdown",
   "metadata": {},
   "source": [
    ">So this dataset has $N=178$ rows and $M=13$ columns. Let's start by finding the so-called *covariance matrix* of the features. It is a square, in this case, $13\\times13$ matrix where every value $i,j$ scores the covariance between features $i$ and $j$. [Read more here](https://en.wikipedia.org/wiki/Covariance_matrix).\n",
    "1. Use the `np.cov` method on `X` to get its $13 \\times 13$ covariance matrix.\n",
    "2. Do you notice any characteristics of how values are organized in this matrix? Comment.\n",
    "3. Plot the distribution of covariances, e.g. using a histogram.\n",
    "4. Plot the distribution of correlations in the same way. Comment on the differences between these two plots. Is one easier to interpret than the other?\n",
    ">\n",
    ">*Hint 1: `np.cov` expects that rows are features and columns are observations. That is the transpose of how `X` \n",
    "is represented now.*<br>\n",
    ">*Hint 3: DO NOT just do something like `plt.hist(my_cov_matrix)`. Not only will it reflect that you don't understand\n",
    "what the covariance matrix is, it will also break your kernel.* <br>\n",
    ">*Hint 4: The correlation matrix can be obtained with the `np.corrcoef` function.*"
   ]
  },
  {
   "cell_type": "markdown",
   "metadata": {},
   "source": [
    "**ANS 1:** Use the np.cov method on X to get its 10×10 covariance matrix."
   ]
  },
  {
   "cell_type": "code",
   "execution_count": 302,
   "metadata": {
    "ExecuteTime": {
     "end_time": "2019-11-11T09:53:15.154656Z",
     "start_time": "2019-11-11T09:53:15.149224Z"
    }
   },
   "outputs": [],
   "source": [
    "# Get the covariance matrix. Importantly, transpose `X`\n",
    "cov_mat = np.cov(X.T)"
   ]
  },
  {
   "cell_type": "markdown",
   "metadata": {},
   "source": [
    "**ANS 2:** Do you notice any characteristics of how values are organized in this matrix? Comment.\n",
    "\n",
    "(1) The matrix is symmetric across the diagonal, and (2) the diagonal values correspond to the\n",
    "variances of each feature. (3) They are both positive and negative."
   ]
  },
  {
   "cell_type": "markdown",
   "metadata": {},
   "source": [
    "**ANS 3:** Plot the distribution of covariances, e.g. using a histogram."
   ]
  },
  {
   "cell_type": "code",
   "execution_count": 304,
   "metadata": {
    "ExecuteTime": {
     "end_time": "2019-11-11T09:53:29.673819Z",
     "start_time": "2019-11-11T09:53:29.393280Z"
    }
   },
   "outputs": [
    {
     "data": {
      "image/png": "[encoded data removed]",
      "text/plain": [
       "<Figure size 288x216 with 1 Axes>"
      ]
     },
     "metadata": {
      "needs_background": "light"
     },
     "output_type": "display_data"
    }
   ],
   "source": [
    "# Get number of rows in covariance matrix\n",
    "N = cov_mat.shape[0]\n",
    "\n",
    "# Extract the upper triangle of values of `cov_mat` into a new array\n",
    "covariances = cov_mat[np.triu_indices(N, 1)]\n",
    "\n",
    "# Plot the histogram of covariances\n",
    "plt.figure(figsize=(4, 3))\n",
    "plt.hist(covariances)\n",
    "plt.xlabel(\"Covariance\", fontsize=14)\n",
    "plt.savefig(\"../plots/ex2.2.3.3.pdf\", bbox_inches='tight')"
   ]
  },
  {
   "cell_type": "markdown",
   "metadata": {},
   "source": [
    "**ANS 4:** Plot the distribution of covariances, e.g. using a histogram."
   ]
  },
  {
   "cell_type": "code",
   "execution_count": 305,
   "metadata": {
    "ExecuteTime": {
     "end_time": "2019-11-11T09:53:56.216239Z",
     "start_time": "2019-11-11T09:53:55.964096Z"
    }
   },
   "outputs": [
    {
     "data": {
      "image/png": "[encoded data removed]",
      "text/plain": [
       "<Figure size 288x216 with 1 Axes>"
      ]
     },
     "metadata": {
      "needs_background": "light"
     },
     "output_type": "display_data"
    }
   ],
   "source": [
    "# Get correlation matrix\n",
    "corr_mat = np.corrcoef(X.T)\n",
    "\n",
    "# Plot the histogram of correlations\n",
    "plt.figure(figsize=(4, 3))\n",
    "plt.hist(corr_mat[np.triu_indices(corr_mat.shape[0], 1)])\n",
    "plt.xlabel(\"Correlations\", fontsize=14)\n",
    "plt.savefig(\"../plots/ex2.2.3.4.pdf\", bbox_inches='tight')"
   ]
  },
  {
   "cell_type": "markdown",
   "metadata": {
    "ExecuteTime": {
     "end_time": "2019-11-08T10:50:50.182822Z",
     "start_time": "2019-11-08T10:50:50.177591Z"
    }
   },
   "source": [
    "**Comment:** The covariances can be very large values, because they scale with the variance of the features.\n",
    "The correlations are normalized with respect to these, and therefore assume values between -1 and 1. This makes\n",
    "them much easier to interpret. We see that most of the wine features correlate positive negatively or positively\n",
    "and that there is a correlation peak at around 0.2."
   ]
  },
  {
   "cell_type": "markdown",
   "metadata": {},
   "source": [
    ">**Ex. 2.2.5**: There's another use of the covariance matrix, other than just learning how features co-vary. In fact, it turns out that the *eigenvectors* of the covariance matrix are a set of mutually orthogonal vectors, that point in the directions of greatest variance in the data. The eigenvector with the greatest *eigenvalue* points along the direction of greatest variation, and so on. This is pretty neat, because if we know along which axes the data is most stretched, we can figure out how best to project it when visualizing it in 2D as a scatter plot! This whole procedure has a name: **Principal Component Analysis** (PCA) and it was invented by Karl Pearson in 1901. It belongs to a powerful class of linear algebra methods called **Matrix Factorization** methods. Ok, so rather than spending too much time on the math of PCA, let's just use the `sklearn` implementation and fit a PCA on `X`."
   ]
  },
  {
   "cell_type": "code",
   "execution_count": 306,
   "metadata": {
    "ExecuteTime": {
     "end_time": "2019-11-11T09:54:12.788440Z",
     "start_time": "2019-11-11T09:54:12.761895Z"
    }
   },
   "outputs": [
    {
     "data": {
      "text/plain": [
       "PCA(copy=True, iterated_power='auto', n_components=10, random_state=None,\n",
       "    svd_solver='auto', tol=0.0, whiten=False)"
      ]
     },
     "execution_count": 306,
     "metadata": {},
     "output_type": "execute_result"
    }
   ],
   "source": [
    "from sklearn.decomposition import PCA\n",
    "pca = PCA(n_components=10)\n",
    "pca.fit(X)"
   ]
  },
  {
   "cell_type": "markdown",
   "metadata": {},
   "source": [
    ">1. Explain what the matrix you get when you call `pca.components_` means.\n",
    "2. Make a bar plot of `pca.explained_variance_ratio_` and explain what it means (you may want to log-scale the y-axis). What insights about our data can we extract from this?\n",
    "3. Indeed, problem with the data AS-IS, is that the different features have very different variances (some are huge numbers others are small). The way to fix this is by doing something called \"[zscoring](https://en.wikipedia.org/wiki/Standard_score)\", whereby each feature is rescaled to have zero mean and unit standard deviation. In this way, all of the data ends up with comparable variance. Make a new array `X_z` that is the zscored `X`, using the `scipy.stats.zscore` function. Show that each column has zero mean and unit standard deviation.\n",
    "4. Transform `X` using the PCA we fitted above to create a new array `X_pca`. Then fit a new PCA to `X_z` and transform it to create another new array `X_z_pca`. Finally, scatter plot against each other the first two components (i.e. fitst two columns in array) of `X_pca`. Do the same for `X_z_pc`. Comment on the difference."
   ]
  },
  {
   "cell_type": "markdown",
   "metadata": {},
   "source": [
    "**ANS 1:** Explain what the matrix you get when you call pca.components_ means."
   ]
  },
  {
   "cell_type": "markdown",
   "metadata": {},
   "source": [
    "To figure this out, lets print its shape"
   ]
  },
  {
   "cell_type": "code",
   "execution_count": 307,
   "metadata": {
    "ExecuteTime": {
     "end_time": "2019-11-11T09:54:15.373822Z",
     "start_time": "2019-11-11T09:54:15.370417Z"
    }
   },
   "outputs": [
    {
     "data": {
      "text/plain": [
       "(10, 13)"
      ]
     },
     "execution_count": 307,
     "metadata": {},
     "output_type": "execute_result"
    }
   ],
   "source": [
    "pca.components_.shape"
   ]
  },
  {
   "cell_type": "markdown",
   "metadata": {},
   "source": [
    "Read about the `components_` attribute (run `?pca` and look under \"Attributes\")."
   ]
  },
  {
   "cell_type": "markdown",
   "metadata": {},
   "source": [
    "We see that it has 10 rows (corresponding to the 10 components returned from the PCA transform) and 13 columns\n",
    "(corresponding to the original 13 dimensions). Specifically, each row in `pca.components_` is an eigenvector of\n",
    "the covariance matrix, or a direction in the data space with high variance."
   ]
  },
  {
   "cell_type": "markdown",
   "metadata": {},
   "source": [
    "**ANS 2:** Make a bar plot of pca.explained_variance_ratio_"
   ]
  },
  {
   "cell_type": "code",
   "execution_count": 308,
   "metadata": {
    "ExecuteTime": {
     "end_time": "2019-11-11T09:54:29.339053Z",
     "start_time": "2019-11-11T09:54:28.906928Z"
    }
   },
   "outputs": [
    {
     "data": {
      "image/png": "[encoded data removed]",
      "text/plain": [
       "<Figure size 288x216 with 1 Axes>"
      ]
     },
     "metadata": {
      "needs_background": "light"
     },
     "output_type": "display_data"
    }
   ],
   "source": [
    "plt.figure(figsize=(4, 3))\n",
    "plt.bar(range(10), pca.explained_variance_ratio_)\n",
    "plt.xlabel(\"Components\", fontsize=14)\n",
    "plt.ylabel(\"Variance explained ratio\", fontsize=14)\n",
    "plt.yscale(\"log\")\n",
    "plt.savefig(\"../plots/ex2.2.5.2.pdf\", bbox_inches='tight')"
   ]
  },
  {
   "cell_type": "markdown",
   "metadata": {},
   "source": [
    "**... and explain what it means.**:\n",
    "\n",
    "The `pca.explained_variance_ratio_` vector tells us what fraction of the total variance in our data\n",
    "is explained by each principal component. "
   ]
  },
  {
   "cell_type": "markdown",
   "metadata": {},
   "source": [
    "**What insights about our data can we extract from this?**"
   ]
  },
  {
   "cell_type": "code",
   "execution_count": 309,
   "metadata": {
    "ExecuteTime": {
     "end_time": "2019-11-11T09:54:32.613348Z",
     "start_time": "2019-11-11T09:54:32.609250Z"
    }
   },
   "outputs": [
    {
     "data": {
      "text/plain": [
       "0.9980912304918974"
      ]
     },
     "execution_count": 309,
     "metadata": {},
     "output_type": "execute_result"
    }
   ],
   "source": [
    "pca.explained_variance_ratio_[0]"
   ]
  },
  {
   "cell_type": "markdown",
   "metadata": {},
   "source": [
    "In this case we observe that almost all of the variance in the data (99.8 %) is explained by the first principal\n",
    "component. This corresponds to the data more or less falling on a single straight line throughout space. The reason\n",
    "for this is that some of the features have tiny variance compared to other features that have huge variance.\n"
   ]
  },
  {
   "cell_type": "markdown",
   "metadata": {},
   "source": [
    "**ANS 3:** Make a new array X_z that is the zscore X, using the scipy.stats.zscore function. Show that each column has zero mean and unit standard deviation."
   ]
  },
  {
   "cell_type": "code",
   "execution_count": 310,
   "metadata": {
    "ExecuteTime": {
     "end_time": "2019-11-11T09:54:34.855686Z",
     "start_time": "2019-11-11T09:54:34.849604Z"
    }
   },
   "outputs": [
    {
     "name": "stdout",
     "output_type": "stream",
     "text": [
      "[-8.38280756e-16 -1.19754394e-16 -8.37033314e-16 -3.99181312e-17\n",
      " -3.99181312e-17  0.00000000e+00 -3.99181312e-16  3.59263181e-16\n",
      " -1.19754394e-16  3.49283648e-17  1.99590656e-16  3.19345050e-16\n",
      " -1.59672525e-16]\n",
      "[1. 1. 1. 1. 1. 1. 1. 1. 1. 1. 1. 1. 1.]\n"
     ]
    }
   ],
   "source": [
    "from scipy.stats import zscore\n",
    "\n",
    "# Do the z-scoring\n",
    "X_z = zscore(X)\n",
    "\n",
    "# Show that columns have zero mean (values will be very close to 0)\n",
    "print(X_z.mean(0))\n",
    "\n",
    "# Show that columns have unit standard deviation\n",
    "print(X_z.std(0))"
   ]
  },
  {
   "cell_type": "markdown",
   "metadata": {},
   "source": [
    "**ANS 4:** Transform X using the PCA you just fitted, and scatter plot the first two dimensions of the transformed data. Please comment on what you see."
   ]
  },
  {
   "cell_type": "code",
   "execution_count": 311,
   "metadata": {
    "ExecuteTime": {
     "end_time": "2019-11-11T09:54:47.650616Z",
     "start_time": "2019-11-11T09:54:47.169922Z"
    }
   },
   "outputs": [
    {
     "data": {
      "image/png": "[encoded data removed]",
      "text/plain": [
       "<Figure size 576x216 with 2 Axes>"
      ]
     },
     "metadata": {
      "needs_background": "light"
     },
     "output_type": "display_data"
    }
   ],
   "source": [
    "X_pca = pca.fit_transform(X)\n",
    "X_z_pca = pca.fit_transform(X_z)\n",
    "\n",
    "plt.figure(figsize=(8, 3))\n",
    "\n",
    "plt.subplot(1, 2, 1)\n",
    "plt.title(\"Not z-scored\", fontsize=14)\n",
    "plt.scatter(X_pca[:, 0], X_pca[:, 1])\n",
    "plt.xlabel(\"PC0\", fontsize=14)\n",
    "plt.ylabel(\"PC1\", fontsize=14)\n",
    "\n",
    "plt.subplot(1, 2, 2)\n",
    "plt.title(\"z-scored\", fontsize=14)\n",
    "plt.scatter(X_z_pca[:, 0], X_z_pca[:, 1])\n",
    "plt.xlabel(\"PC0\", fontsize=14)\n",
    "plt.ylabel(\"PC1\", fontsize=14)\n",
    "\n",
    "plt.savefig(\"../plots/ex2.2.5.4.pdf\", bbox_inches='tight')"
   ]
  },
  {
   "cell_type": "markdown",
   "metadata": {},
   "source": [
    "**Comment**: In the not z-scored data we see that the 0th component has huge variance, which explains the\n",
    "`pca.variance_explained_ratio_` valued. It looks OK when the axes are scaled, but it really is non-sensible because\n",
    "of the huge difference in variance. After z-scoring though, we see some interesting structure when plotting data\n",
    "along the first two PCs. Looks a bit like an inverted U-shape. Clearly there are clusters."
   ]
  },
  {
   "cell_type": "markdown",
   "metadata": {},
   "source": [
    "### Part 3: Statistics (DSFS Chapter 5)"
   ]
  },
  {
   "cell_type": "markdown",
   "metadata": {},
   "source": [
    ">**Ex. 2.3.1**: Take a vector `a = [1, 3, 2, 5, 3, 1, 5, 1, 9000]`:\n",
    "1. Compute the mean of `a` using `numpy`.\n",
    "2. How is median defined? Compute the median of `a` using `numpy`.\n",
    "3. For `a`, why might it make sense to take the median more seriously than the mean?"
   ]
  },
  {
   "cell_type": "markdown",
   "metadata": {},
   "source": [
    "**ANS 1:** Compute the mean of a using numpy"
   ]
  },
  {
   "cell_type": "code",
   "execution_count": 312,
   "metadata": {
    "ExecuteTime": {
     "end_time": "2019-11-11T09:54:51.228360Z",
     "start_time": "2019-11-11T09:54:51.224302Z"
    }
   },
   "outputs": [
    {
     "name": "stdout",
     "output_type": "stream",
     "text": [
      "1002.3333333333334\n"
     ]
    }
   ],
   "source": [
    "import numpy as np\n",
    "\n",
    "a = [1, 3, 2, 5, 3, 1, 5, 1, 9000]\n",
    "\n",
    "print(np.mean(a))"
   ]
  },
  {
   "cell_type": "markdown",
   "metadata": {},
   "source": [
    "**ANS 2:** How is median defined? Compute the median of a using numpy"
   ]
  },
  {
   "cell_type": "markdown",
   "metadata": {},
   "source": [
    "To compute the median, order the values and take the middle value. If there is an even number of values, the median\n",
    "is the average of the two middle values."
   ]
  },
  {
   "cell_type": "code",
   "execution_count": 313,
   "metadata": {
    "ExecuteTime": {
     "end_time": "2019-11-11T09:54:52.267627Z",
     "start_time": "2019-11-11T09:54:52.263795Z"
    }
   },
   "outputs": [
    {
     "name": "stdout",
     "output_type": "stream",
     "text": [
      "3.0\n"
     ]
    }
   ],
   "source": [
    "print(np.median(a))"
   ]
  },
  {
   "cell_type": "markdown",
   "metadata": {},
   "source": [
    "**ANS 2:** For a, why might it make sense to take the median more seriously than the mean?"
   ]
  },
  {
   "cell_type": "markdown",
   "metadata": {},
   "source": [
    "Because there is a huge outlier. Therefore the mean will be skewed a lot, but the median will give a good sense of where most of the numbers are."
   ]
  },
  {
   "cell_type": "markdown",
   "metadata": {},
   "source": [
    ">**Ex. 2.3.2**: Using the same vector `a`:\n",
    "1. How is *range* defined? Compute it.\n",
    "2. How is *variance* defined? How do variance and standard deviation relate? Compute them both. Which value is greater?\n",
    "3. What is the interquartile range? Compute it, and explain why it might be useful."
   ]
  },
  {
   "cell_type": "markdown",
   "metadata": {},
   "source": [
    "**ANS 1:** How is range defined? Compute it"
   ]
  },
  {
   "cell_type": "markdown",
   "metadata": {},
   "source": [
    "The range is the max minus the min value. We can compute it like"
   ]
  },
  {
   "cell_type": "code",
   "execution_count": 314,
   "metadata": {
    "ExecuteTime": {
     "end_time": "2019-11-11T09:54:54.314233Z",
     "start_time": "2019-11-11T09:54:54.311158Z"
    }
   },
   "outputs": [
    {
     "name": "stdout",
     "output_type": "stream",
     "text": [
      "8999\n"
     ]
    }
   ],
   "source": [
    "print(max(a) - min(a))"
   ]
  },
  {
   "cell_type": "markdown",
   "metadata": {},
   "source": [
    "**ANS 2:** How is variance defined? How do variance and standard deviation relate? Compute them both. Which value is greater?"
   ]
  },
  {
   "cell_type": "markdown",
   "metadata": {},
   "source": [
    "The variance is the average squared distance from the mean for each value. The formula to compute is:\n",
    "\n",
    "$$\\sigma^2 = \\frac{1}{n}\\sum^n_{i=0}(x_i-\\mu)^2$$\n",
    "\n",
    "It is the square of the standard deviation, which is then defined as the average absolute distance from the mean.\n",
    "So the variance is always a greater number than standard deviation."
   ]
  },
  {
   "cell_type": "code",
   "execution_count": 315,
   "metadata": {
    "ExecuteTime": {
     "end_time": "2019-11-11T09:54:56.069009Z",
     "start_time": "2019-11-11T09:54:56.065322Z"
    }
   },
   "outputs": [
    {
     "name": "stdout",
     "output_type": "stream",
     "text": [
      "Variance:\t\t 7995336.222222224\n",
      "Standard deviation:\t 2827.6025573305424\n"
     ]
    }
   ],
   "source": [
    "print(\"Variance:\\t\\t\", np.var(a))\n",
    "print(\"Standard deviation:\\t\", np.std(a))"
   ]
  },
  {
   "cell_type": "markdown",
   "metadata": {},
   "source": [
    "**ANS 3:** What is the interquartile range? Compute it, and explain why it might be useful."
   ]
  },
  {
   "cell_type": "markdown",
   "metadata": {},
   "source": [
    "The interquartile range is the range of the middle 50% of the data. It can be useful to understand what the range\n",
    "of the middle part of the data is, especially when there are outliers."
   ]
  },
  {
   "cell_type": "code",
   "execution_count": 316,
   "metadata": {
    "ExecuteTime": {
     "end_time": "2019-11-11T09:54:57.484514Z",
     "start_time": "2019-11-11T09:54:57.479711Z"
    }
   },
   "outputs": [
    {
     "data": {
      "text/plain": [
       "4.0"
      ]
     },
     "execution_count": 316,
     "metadata": {},
     "output_type": "execute_result"
    }
   ],
   "source": [
    "np.percentile(a, 75) - np.percentile(a, 25)"
   ]
  },
  {
   "cell_type": "markdown",
   "metadata": {},
   "source": [
    "We see here, compared to the range, this is a much smaller number."
   ]
  },
  {
   "cell_type": "markdown",
   "metadata": {},
   "source": [
    ">**Ex. 2.3.3**: Covariance and correlation are both measures of trend similarity.\n",
    "1. How do they relate?\n",
    "2. Compute the correlation between `a` and `b = [0, 4, 1, 6, 2, 0, 6, 0, 2]`.\n",
    "3. How does that result change if you remove the last data-point from each list? Why? What *term* do we use for that last value for both `a` and `b`?"
   ]
  },
  {
   "cell_type": "markdown",
   "metadata": {},
   "source": [
    "**ANS 1:** How do they relate?"
   ]
  },
  {
   "cell_type": "markdown",
   "metadata": {},
   "source": [
    "The correlation coefficient is the covariance normalized by the product of standard deviation of the two compared\n",
    "variables. It goes:\n",
    "\n",
    "$$r_{X,Y} = \\frac{\\mathrm{cov}(X,Y)}{\\sigma_X\\sigma_Y}$$"
   ]
  },
  {
   "cell_type": "markdown",
   "metadata": {},
   "source": [
    "**ANS 2.3.3.2: Compute the correlation between a and b = [0, 4, 1, 6, 2, 0, 6, 0, 2]**"
   ]
  },
  {
   "cell_type": "code",
   "execution_count": 317,
   "metadata": {
    "ExecuteTime": {
     "end_time": "2019-11-11T09:54:59.155290Z",
     "start_time": "2019-11-11T09:54:59.151561Z"
    }
   },
   "outputs": [
    {
     "name": "stdout",
     "output_type": "stream",
     "text": [
      "-0.05051844317076045\n"
     ]
    }
   ],
   "source": [
    "b = [0, 4, 1, 6, 2, 0, 6, 0, 2]\n",
    "\n",
    "print(np.corrcoef(a, b)[0, 1])"
   ]
  },
  {
   "cell_type": "markdown",
   "metadata": {},
   "source": [
    "**ANS 2.3.3.3: How does that result change if you remove the last data-point from each list? Why? What term do we use for that last point?**"
   ]
  },
  {
   "cell_type": "code",
   "execution_count": 318,
   "metadata": {
    "ExecuteTime": {
     "end_time": "2019-11-11T09:55:00.426993Z",
     "start_time": "2019-11-11T09:55:00.422869Z"
    }
   },
   "outputs": [
    {
     "name": "stdout",
     "output_type": "stream",
     "text": [
      "0.9766053372749897\n"
     ]
    }
   ],
   "source": [
    "print(np.corrcoef(a[:-1], b[:-1])[0, 1])"
   ]
  },
  {
   "cell_type": "markdown",
   "metadata": {},
   "source": [
    "**Comment:** Now we have a high positive correlation, because the last point was a outlier. So the Pearson\n",
    "correlation is very sensitive to outliers!"
   ]
  },
  {
   "cell_type": "markdown",
   "metadata": {},
   "source": [
    ">**Ex. 2.3.4.EXTRA**: People often use the p-value to gauge the *significance* of a given result. If the p-value of a result is low, the result is significant (which is good) and vice versa. Intuitively, the p-value measures the probabilty that a result *could have been obtained at random*, so you can imagine that if you find that the p-value for some result is HIGH (close to one), regardless of how cool it is, people will not care because, well, you just got lucky with that measurement, didn't you? I created two lists for you below, and you are going to find out if they are *significantly* correlated. You will be using the significance threshold 0.05 (which is arbitrary, disputed, yet very standard in the literature).\n",
    ">\n",
    ">***This exercise will not be included in the assignment. But, you can earn up to 10 extra credit points if you solve it and submit it to the teacher. Your solution must reflect that you have understood the idea numerical hypothesis testing.***"
   ]
  },
  {
   "cell_type": "code",
   "execution_count": 319,
   "metadata": {
    "ExecuteTime": {
     "end_time": "2019-11-11T09:55:02.163468Z",
     "start_time": "2019-11-11T09:55:02.157608Z"
    }
   },
   "outputs": [],
   "source": [
    "# You can incresae this to make the data more noisy (but let it be 4 for now)\n",
    "noise_level = 4\n",
    "\n",
    "# I'm just seeding the random number generator here, so we can compare results\n",
    "np.random.seed(0)\n",
    "\n",
    "# This is your data\n",
    "x = np.arange(0, 20) + np.random.normal(size=20) * noise_level\n",
    "y = np.arange(0, 20) + np.random.normal(size=20) * noise_level"
   ]
  },
  {
   "cell_type": "code",
   "execution_count": 320,
   "metadata": {
    "ExecuteTime": {
     "end_time": "2019-11-11T09:55:07.822248Z",
     "start_time": "2019-11-11T09:55:07.696184Z"
    }
   },
   "outputs": [
    {
     "data": {
      "image/png": "[encoded data removed]",
      "text/plain": [
       "<Figure size 288x216 with 1 Axes>"
      ]
     },
     "metadata": {
      "needs_background": "light"
     },
     "output_type": "display_data"
    }
   ],
   "source": [
    "# Why not make a scatter plot here, to see what you're working with?\n",
    "plt.figure(figsize=(4, 3))\n",
    "plt.scatter(x, y)\n",
    "plt.show()"
   ]
  },
  {
   "cell_type": "markdown",
   "metadata": {},
   "source": [
    ">1. If you plotted `x` and `y` against each other, you probably noted that it looks like they correlate. Use the method `pearsonr` from `scipy.stats` to **compute the correlation coefficient**. Notice that the method also gives you the p-value of the correlation. For now, we ignore this.\n",
    ">2. So how do we figure out if this correlation strength is significant? \n",
    "The devil's advocate would surely argue, that you could obtain a similar *or stronger* correlation between completely random data.\n",
    "Well, screw you advocate, because we can SHOW that if you randomize THIS data, the correlation strength is almost always lower!\n",
    "To put this in stat-lingo, the devil's advocate believes in the so-called *Null Hypothesis*–that your result is no different from random–and the way we REJECT this acvocate's pessimistic hypothesis, is simply by comparing OUR obtained correlation strength to one obtained from data we know is random, namely the *Null model*.\n",
    "The Null model, in this case just a randomized version of our existing data. \n",
    "Your job, now, is to take `x` and `y`, randomize them (each independently) and compute the correlation coefficient.\n",
    ">3. In 2. you probably found that the correlation coefficient of the Null model was lower than that of your real data.\n",
    "But that was just one example of the Null hypothesis being wrong.\n",
    "The devil's advocate is not convinced and wants more evidence.\n",
    "Compute again the correlation coefficient of the Null model, but do it in a `for` loop 10000 times, and report the fraction of times that this correlation coefficient is greater or equal to the correlation coefficient of your real data.\n",
    "Maybe it will happen in 0% of randomizaion trials, maybe 2%, but hopefully not more than 5%.\n",
    "Yes, you guessed, it, this fraction is indeed the p-value.\n",
    "So is it really significant?\n",
    ">4. Complete the function below that takes as input `noise_level` and computes a p-value. Let `noise_level` vary between 1 and 50 and plot the p-value as a function of `noise_level` so we can see how our result becomes less and less significant as we increase the noise. Two questions: (1) around which value of `noise_level` does the correlation become insignificant, and (2) which p-value does the curve saturate at for large `noise_level`?"
   ]
  },
  {
   "cell_type": "code",
   "execution_count": 321,
   "metadata": {
    "ExecuteTime": {
     "end_time": "2019-11-11T09:55:12.006205Z",
     "start_time": "2019-11-11T09:55:12.001165Z"
    }
   },
   "outputs": [],
   "source": [
    "def compute_pval(noise_level, n=10000):\n",
    "\n",
    "    # Seed random number generator\n",
    "    np.random.seed(0)\n",
    "    \n",
    "    # Generate data\n",
    "    x = np.arange(0, 20) + np.random.normal(size=20) * noise_level\n",
    "    y = np.arange(0, 20) + np.random.normal(size=20) * noise_level\n",
    "    \n",
    "    # Unseed the random number generator\n",
    "    np.random.seed(None)\n",
    "    \n",
    "    # Compute the baseline correlation coefficient\n",
    "    r_baseline = pearsonr(x, y)[0]\n",
    "    \n",
    "    # Code with for loop that computes the p-value by randomizing data and\n",
    "    # comparing Pearson correlation to baseline. Should correspond to your\n",
    "    # code from 2.3.4.3."
   ]
  },
  {
   "cell_type": "markdown",
   "metadata": {},
   "source": [
    "**ANS 2.3.4.1: If you plotted x and y against each other, you probably noted that it looks like they correlate. Use the method pearsonr from scipy.stats to compute the correlation coefficient. Notice that the method also gives you the p-value of the correlation. For now, we ignore this.**"
   ]
  },
  {
   "cell_type": "code",
   "execution_count": 322,
   "metadata": {
    "ExecuteTime": {
     "end_time": "2019-11-11T09:55:13.736552Z",
     "start_time": "2019-11-11T09:55:13.727351Z"
    }
   },
   "outputs": [
    {
     "name": "stdout",
     "output_type": "stream",
     "text": [
      "Correlation: 0.6903628160082481\n"
     ]
    }
   ],
   "source": [
    "from scipy.stats import pearsonr\n",
    "\n",
    "print(\"Correlation:\", pearsonr(x, y)[0])"
   ]
  },
  {
   "cell_type": "markdown",
   "metadata": {},
   "source": [
    "**ANS 2.3.4.2: Your job, now, is to take x and y, randomize them (each independently) and compute the correlation coefficient**"
   ]
  },
  {
   "cell_type": "code",
   "execution_count": 324,
   "metadata": {
    "ExecuteTime": {
     "end_time": "2019-11-11T09:55:19.784135Z",
     "start_time": "2019-11-11T09:55:19.777866Z"
    }
   },
   "outputs": [
    {
     "name": "stdout",
     "output_type": "stream",
     "text": [
      "Correlation: -0.26313106523135543\n"
     ]
    }
   ],
   "source": [
    "# Create function that shuffles. Importantly, it shuffles a copy of the input variable\n",
    "# such as to not shuffle that also. We want to keep x and y intact.\n",
    "def shuffle(v):\n",
    "    v_shuf = [v_ for v_ in v]\n",
    "    np.random.shuffle(v_shuf)\n",
    "    return v_shuf\n",
    "\n",
    "# Shuffle x and y\n",
    "x_shuf = shuffle(x)\n",
    "y_shuf = shuffle(y)\n",
    "\n",
    "# Compute the correlation\n",
    "print(\"Correlation:\", pearsonr(x_shuf, y_shuf)[0])"
   ]
  },
  {
   "cell_type": "markdown",
   "metadata": {},
   "source": [
    "**ANS 2.3.4.3: Compute again the correlation coefficient of the Null model, but do it in a for loop 10000 times, and report the fraction of times that this correlation coefficient is greater or equal to the correlation coefficient of your real data.**"
   ]
  },
  {
   "cell_type": "code",
   "execution_count": 325,
   "metadata": {
    "ExecuteTime": {
     "end_time": "2019-11-11T09:55:24.467432Z",
     "start_time": "2019-11-11T09:55:23.332919Z"
    }
   },
   "outputs": [
    {
     "name": "stdout",
     "output_type": "stream",
     "text": [
      "0.0005\n"
     ]
    }
   ],
   "source": [
    "r_baseline = pearsonr(x, y)[0]\n",
    "\n",
    "p_ = []\n",
    "for _ in range(10000):\n",
    "    if pearsonr(shuffle(x), shuffle(y))[0] >= r_baseline:\n",
    "        p_.append(1)\n",
    "    else:\n",
    "        p_.append(0)\n",
    "        \n",
    "print(np.mean(p_))"
   ]
  },
  {
   "cell_type": "markdown",
   "metadata": {},
   "source": [
    "**Comment:** Yes, since it is below 0.05 we can say it is significant!"
   ]
  },
  {
   "cell_type": "markdown",
   "metadata": {},
   "source": [
    "**ANS 2.3.4.3: Plot the p-value as a function of noise_level (let noise_level vary between 1 and 50), so we can see how our result becomes less and less significant as we increase the noise.**"
   ]
  },
  {
   "cell_type": "code",
   "execution_count": 327,
   "metadata": {
    "ExecuteTime": {
     "end_time": "2019-11-11T09:55:34.686292Z",
     "start_time": "2019-11-11T09:55:34.679705Z"
    }
   },
   "outputs": [],
   "source": [
    "def compute_pval(noise_level, n=10000):\n",
    "\n",
    "    # Seed random number generator\n",
    "    np.random.seed(0)\n",
    "\n",
    "    # Generate data\n",
    "    x = np.arange(0, 20) + np.random.normal(size=20) * noise_level\n",
    "    y = np.arange(0, 20) + np.random.normal(size=20) * noise_level\n",
    "    \n",
    "    # Unseed the random number generator\n",
    "    np.random.seed(None)\n",
    "    \n",
    "    # Compute the baseline correlation coefficient\n",
    "    r_baseline = pearsonr(x, y)[0]\n",
    "    \n",
    "    # Code with for loop that computes the p-value by randomizing data and\n",
    "    # comparing Pearson correlation to baseline. Should correspond to your\n",
    "    # code from 2.3.4.3.\n",
    "    \n",
    "    p_ = []\n",
    "    for i in range(n):\n",
    "        if pearsonr(shuffle(x), shuffle(y))[0] >= r_baseline:\n",
    "            p_.append(1)\n",
    "        else:\n",
    "            p_.append(0)\n",
    "\n",
    "    return np.mean(p_)"
   ]
  },
  {
   "cell_type": "code",
   "execution_count": 239,
   "metadata": {
    "ExecuteTime": {
     "end_time": "2019-11-10T12:36:22.948971Z",
     "start_time": "2019-11-10T12:35:33.378104Z"
    }
   },
   "outputs": [
    {
     "name": "stderr",
     "output_type": "stream",
     "text": [
      "100%|██████████| 50/50 [00:49<00:00,  1.02it/s]\n"
     ]
    }
   ],
   "source": [
    "from tqdm import tqdm\n",
    "\n",
    "pvals = []\n",
    "for noise_level in tqdm(range(1, 51)):\n",
    "    pvals.append(compute_pval(noise_level, 10000))"
   ]
  },
  {
   "cell_type": "code",
   "execution_count": 330,
   "metadata": {
    "ExecuteTime": {
     "end_time": "2019-11-11T09:56:57.710096Z",
     "start_time": "2019-11-11T09:56:57.421012Z"
    }
   },
   "outputs": [
    {
     "data": {
      "image/png": "[encoded data removed]",
      "text/plain": [
       "<Figure size 288x216 with 1 Axes>"
      ]
     },
     "metadata": {
      "needs_background": "light"
     },
     "output_type": "display_data"
    }
   ],
   "source": [
    "plt.figure(figsize=(4, 3))\n",
    "plt.plot(range(1, 51), pvals)\n",
    "plt.xlabel(\"`noise_level`\", fontsize=12)\n",
    "plt.ylabel(\"$p$-value\", fontsize=12)\n",
    "plt.savefig(\"../plots/ex2.3.4.3.pdf\", bbox_inches='tight')"
   ]
  },
  {
   "cell_type": "markdown",
   "metadata": {},
   "source": [
    "**(1) around which value of noise_level does the correlation become insignificant?**"
   ]
  },
  {
   "cell_type": "markdown",
   "metadata": {},
   "source": [
    "Seems to happen around 6 or 7"
   ]
  },
  {
   "cell_type": "markdown",
   "metadata": {},
   "source": [
    "**(2) which p-value does the curve saturate at for large noise_level?**"
   ]
  },
  {
   "cell_type": "markdown",
   "metadata": {},
   "source": [
    "Close to 0.4. If we had generated random noise rather than seeding the random number generator, it would fluctuate around 0.5."
   ]
  }
 ],
 "metadata": {
  "kernelspec": {
   "display_name": "Python 3",
   "language": "python",
   "name": "python3"
  },
  "language_info": {
   "codemirror_mode": {
    "name": "ipython",
    "version": 3
   },
   "file_extension": ".py",
   "mimetype": "text/x-python",
   "name": "python",
   "nbconvert_exporter": "python",
   "pygments_lexer": "ipython3",
   "version": "3.7.3"
  },
  "nav_menu": {},
  "toc": {
   "base_numbering": 1,
   "nav_menu": {},
   "number_sections": false,
   "sideBar": true,
   "skip_h1_title": false,
   "title_cell": "Table of Contents",
   "title_sidebar": "Contents",
   "toc_cell": false,
   "toc_position": {},
   "toc_section_display": "block",
   "toc_window_display": false
  },
  "varInspector": {
   "cols": {
    "lenName": 16,
    "lenType": 16,
    "lenVar": 40
   },
   "kernels_config": {
    "python": {
     "delete_cmd_postfix": "",
     "delete_cmd_prefix": "del ",
     "library": "var_list.py",
     "varRefreshCmd": "print(var_dic_list())"
    },
    "r": {
     "delete_cmd_postfix": ") ",
     "delete_cmd_prefix": "rm(",
     "library": "var_list.r",
     "varRefreshCmd": "cat(var_dic_list()) "
    }
   },
   "types_to_exclude": [
    "module",
    "function",
    "builtin_function_or_method",
    "instance",
    "_Feature"
   ],
   "window_display": false
  }
 },
 "nbformat": 4,
 "nbformat_minor": 2
}
